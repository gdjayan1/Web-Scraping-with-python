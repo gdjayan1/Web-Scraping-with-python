{
 "cells": [
  {
   "cell_type": "markdown",
   "metadata": {},
   "source": [
    "# Web Scraping with python"
   ]
  },
  {
   "cell_type": "markdown",
   "metadata": {},
   "source": [
    "## 1.Import Libraries"
   ]
  },
  {
   "cell_type": "code",
   "execution_count": 1,
   "metadata": {},
   "outputs": [],
   "source": [
    "from selenium import webdriver\n",
    "from selenium.webdriver.support.ui import WebDriverWait\n",
    "from selenium.webdriver.support import expected_conditions as ec\n",
    "import time\n",
    "from bs4 import BeautifulSoup\n",
    "import re\n",
    "import pandas as pd"
   ]
  },
  {
   "cell_type": "markdown",
   "metadata": {},
   "source": [
    "## 2. Scraping flipkart Ecomerce website for Educational purpose"
   ]
  },
  {
   "cell_type": "code",
   "execution_count": 2,
   "metadata": {},
   "outputs": [],
   "source": [
    "url = 'https://www.flipkart.com/lehenga-cholis/pr?sid=2oq%2Cc1r%2C3pj%2Ct5i&otracker%5B%5D=nmenu_sub_Women_0_Lehenga+Choli&otracker%5B%5D=nmenu_sub_Women_0_Lehenga+Choli'\n",
    "valid_pages='&page='\n",
    "n=[]\n",
    "title=[]\n",
    "price_rs= []\n",
    "image=[]\n",
    "company=[]\n",
    "for n in range(1,3):\n",
    "    quote_page = f'{url}{valid_pages}{n}'\n",
    "    driver = webdriver.Chrome('....\\chromedriver.exe')\n",
    "    driver.get(quote_page)\n",
    "    html = driver.page_source\n",
    "    \n",
    "    soup = BeautifulSoup(html,'html.parser')\n",
    "    for i in soup.select('._2mylT6'):\n",
    "        class_title = i.text\n",
    "        title.append(class_title)\n",
    "                    \n",
    "    for i in soup.find_all('div',{'class':'_1vC4OE'}):\n",
    "        price = i.text\n",
    "        price_rs.append(price)  \n",
    "               \n",
    "    for link in soup.find_all('img',{'class':'_3togXc'}):\n",
    "        img = link.get('src')\n",
    "        image.append(img)     \n",
    "                    \n",
    "    for i in soup.select('._2B_pmu'):\n",
    "        companys = i.text\n",
    "        company.append(companys)\n",
    "    time.sleep(5)"
   ]
  },
  {
   "cell_type": "markdown",
   "metadata": {},
   "source": [
    "## 3.Convert the data to pandas dataframe"
   ]
  },
  {
   "cell_type": "code",
   "execution_count": 4,
   "metadata": {},
   "outputs": [],
   "source": [
    "title=pd.DataFrame(title,columns=['title'])\n",
    "price=pd.DataFrame(price_rs,columns=['price'])\n",
    "company = pd.DataFrame(company,columns=['company'])\n",
    "image=pd.DataFrame(image,columns=['image'])\n",
    "Data=title.join(company)\n",
    "Data['image']=image\n",
    "Data['price'] = price\n",
    "Data.to_csv('fashion.csv')"
   ]
  },
  {
   "cell_type": "code",
   "execution_count": 5,
   "metadata": {},
   "outputs": [
    {
     "data": {
      "text/html": [
       "<div>\n",
       "<style scoped>\n",
       "    .dataframe tbody tr th:only-of-type {\n",
       "        vertical-align: middle;\n",
       "    }\n",
       "\n",
       "    .dataframe tbody tr th {\n",
       "        vertical-align: top;\n",
       "    }\n",
       "\n",
       "    .dataframe thead th {\n",
       "        text-align: right;\n",
       "    }\n",
       "</style>\n",
       "<table border=\"1\" class=\"dataframe\">\n",
       "  <thead>\n",
       "    <tr style=\"text-align: right;\">\n",
       "      <th></th>\n",
       "      <th>title</th>\n",
       "      <th>company</th>\n",
       "      <th>image</th>\n",
       "      <th>price</th>\n",
       "    </tr>\n",
       "  </thead>\n",
       "  <tbody>\n",
       "    <tr>\n",
       "      <td>0</td>\n",
       "      <td>Embroidered Semi Stitched Lehenga Choli</td>\n",
       "      <td>Trilok Fab</td>\n",
       "      <td>https://rukminim1.flixcart.com/image/329/395/k...</td>\n",
       "      <td>₹579</td>\n",
       "    </tr>\n",
       "    <tr>\n",
       "      <td>1</td>\n",
       "      <td>Embroidered Semi Stitched Lehenga, Choli and D...</td>\n",
       "      <td>Zinariya Fab</td>\n",
       "      <td>https://rukminim1.flixcart.com/image/329/395/j...</td>\n",
       "      <td>₹499</td>\n",
       "    </tr>\n",
       "    <tr>\n",
       "      <td>2</td>\n",
       "      <td>Embroidered Semi Stitched Lehenga, Choli and D...</td>\n",
       "      <td>panchhi nx</td>\n",
       "      <td>https://rukminim1.flixcart.com/image/329/395/j...</td>\n",
       "      <td>₹1,070</td>\n",
       "    </tr>\n",
       "    <tr>\n",
       "      <td>3</td>\n",
       "      <td>Embroidered Semi Stitched Lehenga Choli</td>\n",
       "      <td>Trilok Fab</td>\n",
       "      <td>https://rukminim1.flixcart.com/image/329/395/k...</td>\n",
       "      <td>₹579</td>\n",
       "    </tr>\n",
       "    <tr>\n",
       "      <td>4</td>\n",
       "      <td>Embroidered Semi Stitched Lehenga, Choli and D...</td>\n",
       "      <td>21st Fashion</td>\n",
       "      <td>https://rukminim1.flixcart.com/image/329/395/j...</td>\n",
       "      <td>₹499</td>\n",
       "    </tr>\n",
       "  </tbody>\n",
       "</table>\n",
       "</div>"
      ],
      "text/plain": [
       "                                               title       company  \\\n",
       "0            Embroidered Semi Stitched Lehenga Choli    Trilok Fab   \n",
       "1  Embroidered Semi Stitched Lehenga, Choli and D...  Zinariya Fab   \n",
       "2  Embroidered Semi Stitched Lehenga, Choli and D...    panchhi nx   \n",
       "3            Embroidered Semi Stitched Lehenga Choli    Trilok Fab   \n",
       "4  Embroidered Semi Stitched Lehenga, Choli and D...  21st Fashion   \n",
       "\n",
       "                                               image   price  \n",
       "0  https://rukminim1.flixcart.com/image/329/395/k...    ₹579  \n",
       "1  https://rukminim1.flixcart.com/image/329/395/j...    ₹499  \n",
       "2  https://rukminim1.flixcart.com/image/329/395/j...  ₹1,070  \n",
       "3  https://rukminim1.flixcart.com/image/329/395/k...    ₹579  \n",
       "4  https://rukminim1.flixcart.com/image/329/395/j...    ₹499  "
      ]
     },
     "execution_count": 5,
     "metadata": {},
     "output_type": "execute_result"
    }
   ],
   "source": [
    "Data.head()"
   ]
  },
  {
   "cell_type": "code",
   "execution_count": null,
   "metadata": {},
   "outputs": [],
   "source": []
  }
 ],
 "metadata": {
  "kernelspec": {
   "display_name": "Python 3",
   "language": "python",
   "name": "python3"
  },
  "language_info": {
   "codemirror_mode": {
    "name": "ipython",
    "version": 3
   },
   "file_extension": ".py",
   "mimetype": "text/x-python",
   "name": "python",
   "nbconvert_exporter": "python",
   "pygments_lexer": "ipython3",
   "version": "3.7.4"
  }
 },
 "nbformat": 4,
 "nbformat_minor": 2
}
